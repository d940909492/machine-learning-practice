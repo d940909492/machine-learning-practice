{
 "cells": [
  {
   "cell_type": "code",
   "execution_count": 9,
   "metadata": {},
   "outputs": [],
   "source": [
    "import pandas as pd\n",
    "import numpy as np\n",
    "from sklearn.tree import DecisionTreeClassifier\n",
    "from sklearn.preprocessing import LabelEncoder\n",
    "from sklearn.tree import export_graphviz\n",
    "import graphviz\n",
    "\n",
    "data = pd.read_csv('bank1.csv', delimiter=';')"
   ]
  },
  {
   "cell_type": "code",
   "execution_count": 10,
   "metadata": {},
   "outputs": [],
   "source": [
    "label_encoder = LabelEncoder()\n",
    "data['housing'] = label_encoder.fit_transform(data['housing'])\n",
    "data['skills_level'] = label_encoder.fit_transform(data['skills_level'])\n",
    "data['marital'] = label_encoder.fit_transform(data['marital'])\n",
    "data['job'] = label_encoder.fit_transform(data['job'])\n",
    "\n",
    "x = data.drop(columns=['job'])\n",
    "y = data['job']"
   ]
  },
  {
   "cell_type": "code",
   "execution_count": 11,
   "metadata": {},
   "outputs": [
    {
     "data": {
      "text/plain": [
       "'decision_tree\\\\tree testing.pdf'"
      ]
     },
     "execution_count": 11,
     "metadata": {},
     "output_type": "execute_result"
    }
   ],
   "source": [
    "clf = DecisionTreeClassifier()\n",
    "\n",
    "clf.fit(x, y)\n",
    "\n",
    "dot_data = export_graphviz(clf, out_file=None, feature_names=x.columns, class_names=label_encoder.classes_,filled=True, rounded=True, special_characters=True)  \n",
    "\n",
    "graph = graphviz.Source(dot_data)\n",
    "graph.render('./decision_tree/tree testing', view=True)"
   ]
  },
  {
   "cell_type": "code",
   "execution_count": 12,
   "metadata": {},
   "outputs": [],
   "source": [
    "data1 = pd.read_csv('bank1.csv', delimiter=';')\n",
    "clf1 = DecisionTreeClassifier(max_depth=3)"
   ]
  },
  {
   "cell_type": "code",
   "execution_count": 13,
   "metadata": {},
   "outputs": [
    {
     "data": {
      "text/plain": [
       "array([['employed', '0', '0'],\n",
       "       ['unemployed', '1', '1'],\n",
       "       ['unemployed', '1', '0'],\n",
       "       ['employed', '1', '0'],\n",
       "       ['unemployed', '0', '1'],\n",
       "       ['employed', '0', '0'],\n",
       "       ['employed', '1', '1'],\n",
       "       ['unemployed', '0', '0'],\n",
       "       ['employed', '1', '1'],\n",
       "       ['employed', '1', '0'],\n",
       "       ['unemployed', '1', '1'],\n",
       "       ['employed', '0', '0'],\n",
       "       ['unemployed', '1', '0'],\n",
       "       ['unemployed', '1', '0'],\n",
       "       ['employed', '1', '1'],\n",
       "       ['unemployed', '0', '0'],\n",
       "       ['employed', '1', '1'],\n",
       "       ['employed', '0', '0'],\n",
       "       ['employed', '1', '1']], dtype='<U32')"
      ]
     },
     "execution_count": 13,
     "metadata": {},
     "output_type": "execute_result"
    }
   ],
   "source": [
    "t1 = np.array([data1['job'].tolist()]).reshape(-1,1)\n",
    "t2 = np.array([data['housing'].tolist()]).reshape(-1,1)\n",
    "t3 = np.array([data['marital'].tolist()]).reshape(-1,1)\n",
    "\n",
    "n = t1.shape[0]\n",
    "temp = np.ones((n, 3))\n",
    "x1 = np.array(temp, dtype=str)\n",
    "x1[:, 0] = t1.flatten()\n",
    "x1[:, 1] = t2.flatten()\n",
    "x1[:, 2] = t3.flatten()\n",
    "x1"
   ]
  },
  {
   "cell_type": "code",
   "execution_count": 14,
   "metadata": {},
   "outputs": [
    {
     "data": {
      "text/plain": [
       "array([3, 1, 1, 3, 2, 1, 1, 1, 2, 1, 1, 2, 1, 1, 3, 2, 1, 1, 2])"
      ]
     },
     "execution_count": 14,
     "metadata": {},
     "output_type": "execute_result"
    }
   ],
   "source": [
    "y1 = np.array(data1['skills_level'].tolist())\n",
    "y1"
   ]
  },
  {
   "cell_type": "code",
   "execution_count": 15,
   "metadata": {},
   "outputs": [
    {
     "name": "stderr",
     "output_type": "stream",
     "text": [
      "c:\\Users\\dong5\\AppData\\Local\\Programs\\Python\\Python39\\lib\\site-packages\\sklearn\\preprocessing\\_encoders.py:972: FutureWarning: `sparse` was renamed to `sparse_output` in version 1.2 and will be removed in 1.4. `sparse_output` is ignored unless you leave `sparse` to its default value.\n",
      "  warnings.warn(\n",
      "c:\\Users\\dong5\\AppData\\Local\\Programs\\Python\\Python39\\lib\\site-packages\\sklearn\\preprocessing\\_encoders.py:972: FutureWarning: `sparse` was renamed to `sparse_output` in version 1.2 and will be removed in 1.4. `sparse_output` is ignored unless you leave `sparse` to its default value.\n",
      "  warnings.warn(\n"
     ]
    }
   ],
   "source": [
    "from sklearn.preprocessing import LabelEncoder, OneHotEncoder\n",
    "label_encoder = LabelEncoder()\n",
    "t1e= label_encoder.fit_transform(t1.flatten())\n",
    "t2e = label_encoder.fit_transform(t2.flatten())\n",
    "t3e = label_encoder.fit_transform(t3.flatten())\n",
    "ohe = OneHotEncoder(sparse=False)\n",
    "t2o = ohe.fit_transform(t2)\n",
    "t3o = ohe.fit_transform(t3)\n",
    "x1 = np.column_stack((t1e, t2o, t3o))"
   ]
  },
  {
   "cell_type": "code",
   "execution_count": 16,
   "metadata": {},
   "outputs": [
    {
     "data": {
      "text/plain": [
       "'decision_tree\\\\tree testing2.pdf'"
      ]
     },
     "execution_count": 16,
     "metadata": {},
     "output_type": "execute_result"
    }
   ],
   "source": [
    "clf1.fit(x1,y1)\n",
    "\n",
    "dot_data1 = export_graphviz(clf1, out_file=None,filled=True, rounded=True, special_characters=True)  \n",
    "\n",
    "graph = graphviz.Source(dot_data1)\n",
    "graph.render('./decision_tree/tree testing2', view=True)"
   ]
  }
 ],
 "metadata": {
  "kernelspec": {
   "display_name": "Python 3",
   "language": "python",
   "name": "python3"
  },
  "language_info": {
   "codemirror_mode": {
    "name": "ipython",
    "version": 3
   },
   "file_extension": ".py",
   "mimetype": "text/x-python",
   "name": "python",
   "nbconvert_exporter": "python",
   "pygments_lexer": "ipython3",
   "version": "3.9.6"
  },
  "orig_nbformat": 4
 },
 "nbformat": 4,
 "nbformat_minor": 2
}
